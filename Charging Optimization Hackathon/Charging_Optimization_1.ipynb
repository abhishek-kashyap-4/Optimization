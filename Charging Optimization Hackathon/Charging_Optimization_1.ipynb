{
  "nbformat": 4,
  "nbformat_minor": 0,
  "metadata": {
    "colab": {
      "provenance": [],
      "collapsed_sections": []
    },
    "kernelspec": {
      "name": "python3",
      "display_name": "Python 3"
    },
    "language_info": {
      "name": "python"
    }
  },
  "cells": [
    {
      "cell_type": "code",
      "source": [
        "import numpy as np\n",
        "import scipy\n",
        "import pandas as pd\n"
      ],
      "metadata": {
        "id": "n86l74PR2l-n"
      },
      "execution_count": 3,
      "outputs": []
    },
    {
      "cell_type": "code",
      "source": [
        "#GLOBAL VARIABLES\n",
        "DS_Distance_matrix = np.zeros((4096,100))\n",
        "DS_matrix = np.zeros_like(DS_Distance_matrix)\n",
        "dh = pd.read_csv('Demand_History.csv')\n",
        "df  = dh.iloc[:,[0,1,2,-1]] #I am currently using 2018's data.\n",
        "su = pd.read_csv('exisiting_EV_infrastructure_2018.csv')\n",
        "ps_array = np.array(su.loc[:,'total_parking_slots'])\n",
        "scs_existing = np.array(su.loc[:,'existing_num_SCS'])\n",
        "fcs_existing = np.array(su.loc[:,'existing_num_FCS'])\n",
        "fcs_array_0 = fcs_existing.copy()\n",
        "scs_array_0 = scs_existing.copy()\n",
        "#HELPER FUNCTIONS\n",
        "def flatten(fcs_array, scs_array, DS_matrix):\n",
        "  one_long_input = np.concatenate((fcs_array,scs_array,DS_matrix.flatten()))\n",
        "    \n",
        "  return one_long_input\n",
        "def unflatten(one_long_input):\n",
        "  fcs_array = one_long_input[0:100]\n",
        "  one_long_input = one_long_input[100:]\n",
        "  scs_array = one_long_input[0:100]\n",
        "  one_long_input = one_long_input[100:]\n",
        "  DS_matrix = np.reshape(one_long_input, (4096,100))\n",
        "  return fcs_array,scs_array, DS_matrix\n",
        "#a,b,c = unflatten(flatten(fcs_array_0,scs_array_0,DS_matrix))\n",
        "init_guesses = flatten(fcs_array_0,scs_array_0, DS_matrix)\n",
        "\n",
        "\n",
        "\n",
        "def create_DS_Distance_matrix():\n",
        "  global DS_Distance_matrix\n",
        "  for row in df.index:\n",
        "    for col in range(len(df.columns)):\n",
        "      DS_Distance_matrix[row][col] = df.loc[row].iloc[col]\n",
        "create_DS_Distance_matrix()  \n",
        "  \n",
        "def customer_dissatisfaction(DS_matrix):\n",
        "  cost = 0\n",
        "  for row in range(len(DS_matrix)):\n",
        "    for col in range(len(DS_matrix[0])):\n",
        "      cost += DS_matrix[row][col]*DS_Distance_matrix[row][col]\n",
        "  return cost\n",
        "def infrastructure_cost(fcs_array,scs_array):\n",
        "  cost = 0\n",
        "  for i in fcs_array:\n",
        "    cost += i*1.5\n",
        "  for i in scs_array:\n",
        "    cost += i\n",
        "  return cost\n"
      ],
      "metadata": {
        "id": "aQyzAHfryelb"
      },
      "execution_count": 4,
      "outputs": []
    },
    {
      "cell_type": "code",
      "execution_count": 6,
      "metadata": {
        "colab": {
          "base_uri": "https://localhost:8080/",
          "height": 36
        },
        "id": "zRg1z08wxlg7",
        "outputId": "9f3a7ba6-a88a-4e37-9575-8fe1efc10c9a"
      },
      "outputs": [
        {
          "output_type": "execute_result",
          "data": {
            "text/plain": [
              "'\\nCOlumn of the DS_matrix must add up to corresponding total supply of the parking location (scs*200 + fcs*400)\\n'"
            ],
            "application/vnd.google.colaboratory.intrinsic+json": {
              "type": "string"
            }
          },
          "metadata": {},
          "execution_count": 6
        }
      ],
      "source": [
        "#OBJECTIVE\n",
        "def objective(one_long_input):\n",
        "  fcs_array , scs_array,DS_matrix = unflatten(one_long_input)\n",
        "  cost1 = customer_dissatisfaction(DS_matrix)\n",
        "  cost2 = infrastructure_cost(fcs_array, scs_array)\n",
        "  return cost1+ 600*cost2\n",
        "\n",
        "cons=[]\n",
        "def all_constraints(one_long_input):\n",
        "  fcs_array , scs_array,DS_matrix = unflatten(one_long_input)\n",
        "  if(sum(n < 0  for rows in  DS_matrix for n in rows) !=0):\n",
        "    return 1\n",
        "  if(sum(n <0 for n in fcs_array )!=0):\n",
        "    return 1\n",
        "  if(sum(n <0 for n in scs_array )!=0):\n",
        "    return 1\n",
        "  for i in range(len(fcs_array)):\n",
        "    if( (fcs_array[i] + scs_array[i] != ps_array[i]) or (fcs_array[i]  < fcs_existing[i]) or (scs_array[i]  < scs_existing[i]) ):\n",
        "      return 1\n",
        "  #extra constraints\n",
        "  for row in DS_matrix:\n",
        "    for val in row:\n",
        "      if(val>1):\n",
        "        return 1\n",
        "  return 0\n",
        "\n",
        "\n",
        "\n",
        "cons.append({'type':'eq','fun':all_constraints})\n",
        "\n",
        "\n",
        "\n",
        "'''\n",
        "COlumn of the DS_matrix must add up to corresponding total supply of the parking location (scs*200 + fcs*400)\n",
        "'''"
      ]
    },
    {
      "cell_type": "code",
      "source": [
        "from scipy.optimize import minimize\n",
        "result = minimize(objective, init_guesses,constraints=cons)"
      ],
      "metadata": {
        "id": "eRdN9vQgKMN3"
      },
      "execution_count": null,
      "outputs": []
    },
    {
      "cell_type": "code",
      "source": [
        "import numpy as np\n",
        "nop = np.array([[0,1,2],[1,2,3]])\n",
        "sum(n<0 for rows in nop for n in rows)"
      ],
      "metadata": {
        "id": "SBm1tQaq3uWI"
      },
      "execution_count": null,
      "outputs": []
    }
  ]
}